{
  "nbformat": 4,
  "nbformat_minor": 0,
  "metadata": {
    "colab": {
      "name": "Untitled4.ipynb",
      "provenance": [],
      "authorship_tag": "ABX9TyNC6aQQgdDf43K1zRUPUr+G",
      "include_colab_link": true
    },
    "kernelspec": {
      "name": "python3",
      "display_name": "Python 3"
    }
  },
  "cells": [
    {
      "cell_type": "markdown",
      "metadata": {
        "id": "view-in-github",
        "colab_type": "text"
      },
      "source": [
        "<a href=\"https://colab.research.google.com/github/swapuranik/NLP-Project/blob/main/Project.ipynb\" target=\"_parent\"><img src=\"https://colab.research.google.com/assets/colab-badge.svg\" alt=\"Open In Colab\"/></a>"
      ]
    },
    {
      "cell_type": "code",
      "metadata": {
        "id": "QeCB1t6EXRc-"
      },
      "source": [
        "from nltk.util import ngrams\n",
        "from nltk.tokenize import sent_tokenize, word_tokenize"
      ],
      "execution_count": 1,
      "outputs": []
    },
    {
      "cell_type": "code",
      "metadata": {
        "id": "n4NRxZSUVC0B"
      },
      "source": [
        "https://raw.githubusercontent.com/swapuranik/NLP-Project/6966a984a8a8b4498a5c6d56e1afe93ea9d48964/train.txt"
      ],
      "execution_count": null,
      "outputs": []
    }
  ]
}